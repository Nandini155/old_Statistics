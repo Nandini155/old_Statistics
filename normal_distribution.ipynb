import numpy as np
import matplotlib.pyplot as plt
import seaborn as sns
import ipywidgets as widgets
from ipywidgets import interact

# Function to generate and plot normal distribution
def plot_normal_distribution(std_dev=1.0):
    mean = 0  # Mean remains fixed at 0
    x = np.linspace(-10, 10, 1000)  # Range of x-values
    y = (1 / (std_dev * np.sqrt(2 * np.pi))) * np.exp(-0.5 * ((x - mean) / std_dev) ** 2)

    # Plotting the distribution
    plt.figure(figsize=(8, 4))
    plt.plot(x, y, label=f'Standard Deviation: {std_dev}')
    plt.fill_between(x, y, alpha=0.2)
    plt.title('Normal Distribution')
    plt.xlabel('X')
    plt.ylabel('Density')
    plt.legend()
    plt.show()

# Create an interactive slider to control the standard deviation
interact(plot_normal_distribution, std_dev=widgets.FloatSlider(min=0.1, max=5.0, step=0.1, value=1.0));
